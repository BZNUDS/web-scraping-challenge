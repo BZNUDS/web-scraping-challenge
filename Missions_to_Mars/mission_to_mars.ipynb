{
 "cells": [
  {
   "cell_type": "code",
   "execution_count": 1,
   "metadata": {},
   "outputs": [
    {
     "name": "stderr",
     "output_type": "stream",
     "text": [
      "\n",
      "\n",
      "====== WebDriver manager ======\n",
      "Current google-chrome version is 100.0.4896\n",
      "Get LATEST chromedriver version for 100.0.4896 google-chrome\n",
      "Driver [C:\\Users\\BZ Northwestern BC\\.wdm\\drivers\\chromedriver\\win32\\100.0.4896.60\\chromedriver.exe] found in cache\n"
     ]
    }
   ],
   "source": [
    "# Dependencies\n",
    "from bs4 import BeautifulSoup\n",
    "import requests\n",
    "import pymongo\n",
    "import os\n",
    "from splinter import Browser\n",
    "import pandas as pd\n",
    "import time\n",
    "from webdriver_manager.chrome import ChromeDriverManager\n",
    "executable_path = {'executable_path': ChromeDriverManager().install()}\n",
    "browser = Browser(\"chrome\", **executable_path, headless=False)"
   ]
  },
  {
   "cell_type": "code",
   "execution_count": 2,
   "metadata": {},
   "outputs": [],
   "source": [
    "# Initialize PyMongo to work with MongoDBs\n",
    "conn = 'mongodb://localhost:27017'\n",
    "client = pymongo.MongoClient(conn)"
   ]
  },
  {
   "cell_type": "code",
   "execution_count": 3,
   "metadata": {},
   "outputs": [
    {
     "name": "stdout",
     "output_type": "stream",
     "text": [
      "collection; Collection(Database(MongoClient(host=['localhost:27017'], document_class=dict, tz_aware=False, connect=True), 'mars_news_db'), 'articles')\n"
     ]
    }
   ],
   "source": [
    "# Define database and collection  from Eli's Stu_Reddit_Scraper for 12.2.4 that he slacked to us at 7:51 on 3/16\n",
    "db = client.mars_news_db\n",
    "collection = db.articles\n",
    "print(f'collection; {collection}')\n"
   ]
  },
  {
   "cell_type": "markdown",
   "metadata": {},
   "source": [
    "Step 1 - Scraping:  NASA Mars News"
   ]
  },
  {
   "cell_type": "code",
   "execution_count": 4,
   "metadata": {},
   "outputs": [
    {
     "name": "stdout",
     "output_type": "stream",
     "text": [
      "news_title: NASA's InSight Flexes Its Arm While Its 'Mole' Hits Pause\n",
      "news_body: Now that the lander's robotic arm has helped the mole get underground, it will resume science activities that have been on hold.\n"
     ]
    }
   ],
   "source": [
    "# URL of page to be scraped\n",
    "url = 'https://redplanetscience.com/'\n",
    "\n",
    "# Retrieve page with the requests module\n",
    "# response = requests.get(url)\n",
    "browser.visit(url)\n",
    "html = browser.html\n",
    "\n",
    "# Create BeautifulSoup object; parse with 'html.parser'\n",
    "soup = BeautifulSoup(html, 'html.parser')\n",
    "\n",
    "#print(soup.prettify())\n",
    "\n",
    "news_title =soup.find(\"div\", \"content_title\").get_text()\n",
    "news_body = soup.find(\"div\", \"article_teaser_body\").get_text()\n",
    "news_title = news_title.replace(news_body, '')\n",
    "\n",
    "print(f'news_title: {news_title}')\n",
    "print(f'news_body: {news_body}')"
   ]
  },
  {
   "cell_type": "code",
   "execution_count": 5,
   "metadata": {},
   "outputs": [],
   "source": [
    "browser.quit()"
   ]
  },
  {
   "cell_type": "markdown",
   "metadata": {},
   "source": [
    "Step 1 - Scraping:  JPL Mars Space Images - Featured Image"
   ]
  },
  {
   "cell_type": "code",
   "execution_count": 6,
   "metadata": {},
   "outputs": [
    {
     "name": "stdout",
     "output_type": "stream",
     "text": [
      "featured_image_url: https://spaceimages-mars.com/image/featured/mars1.jpg\n",
      "\n"
     ]
    }
   ],
   "source": [
    "browser = Browser(\"chrome\", **executable_path, headless=False)\n",
    "url = 'https://spaceimages-mars.com/'\n",
    "\n",
    "# Retrieve page with the visit module\n",
    "browser.visit(url)\n",
    "html = browser.html\n",
    "\n",
    "# Click on \"FULL IMAGE\" button\n",
    "browser.links.find_by_partial_text('FULL IMAGE').click()\n",
    "\n",
    "# Create BeautifulSoup object; parse with 'html.parser'\n",
    "soup = BeautifulSoup(html, 'html.parser')\n",
    "# print(soup.prettify())\n",
    "\n",
    "fade_in_image = soup.find_all(\"img\", \"headerimage fade-in\")\n",
    "featured_image_url=url + fade_in_image[0]['src']\n",
    "print(f'featured_image_url: {featured_image_url}')\n",
    "print()"
   ]
  },
  {
   "cell_type": "code",
   "execution_count": 7,
   "metadata": {},
   "outputs": [],
   "source": [
    "browser.quit()"
   ]
  },
  {
   "cell_type": "markdown",
   "metadata": {},
   "source": [
    "Step 1 - Scraping:  JPL Mars Space Images - Mars Facts"
   ]
  },
  {
   "cell_type": "code",
   "execution_count": 8,
   "metadata": {},
   "outputs": [
    {
     "name": "stdout",
     "output_type": "stream",
     "text": [
      "tables\n",
      "[                         0                1                2\n",
      "0  Mars - Earth Comparison             Mars            Earth\n",
      "1                Diameter:         6,779 km        12,742 km\n",
      "2                    Mass:  6.39 × 10^23 kg  5.97 × 10^24 kg\n",
      "3                   Moons:                2                1\n",
      "4       Distance from Sun:   227,943,824 km   149,598,262 km\n",
      "5          Length of Year:   687 Earth days      365.24 days\n",
      "6             Temperature:     -87 to -5 °C      -88 to 58°C,                       0                              1\n",
      "0  Equatorial Diameter:                       6,792 km\n",
      "1       Polar Diameter:                       6,752 km\n",
      "2                 Mass:  6.39 × 10^23 kg (0.11 Earths)\n",
      "3                Moons:          2 ( Phobos & Deimos )\n",
      "4       Orbit Distance:       227,943,824 km (1.38 AU)\n",
      "5         Orbit Period:           687 days (1.9 years)\n",
      "6  Surface Temperature:                   -87 to -5 °C\n",
      "7         First Record:              2nd millennium BC\n",
      "8          Recorded By:           Egyptian astronomers]\n",
      "                         0                1                2\n",
      "0  Mars - Earth Comparison             Mars            Earth\n",
      "1                Diameter:         6,779 km        12,742 km\n",
      "2                    Mass:  6.39 × 10^23 kg  5.97 × 10^24 kg\n",
      "3                   Moons:                2                1\n",
      "4       Distance from Sun:   227,943,824 km   149,598,262 km\n",
      "html_table: <table border=\"1\" class=\"dataframe\">\n",
      "  <thead>\n",
      "    <tr style=\"text-align: right;\">\n",
      "      <th></th>\n",
      "      <th>0</th>\n",
      "      <th>1</th>\n",
      "      <th>2</th>\n",
      "    </tr>\n",
      "  </thead>\n",
      "  <tbody>\n",
      "    <tr>\n",
      "      <th>0</th>\n",
      "      <td>Mars - Earth Comparison</td>\n",
      "      <td>Mars</td>\n",
      "      <td>Earth</td>\n",
      "    </tr>\n",
      "    <tr>\n",
      "      <th>1</th>\n",
      "      <td>Diameter:</td>\n",
      "      <td>6,779 km</td>\n",
      "      <td>12,742 km</td>\n",
      "    </tr>\n",
      "    <tr>\n",
      "      <th>2</th>\n",
      "      <td>Mass:</td>\n",
      "      <td>6.39 × 10^23 kg</td>\n",
      "      <td>5.97 × 10^24 kg</td>\n",
      "    </tr>\n",
      "    <tr>\n",
      "      <th>3</th>\n",
      "      <td>Moons:</td>\n",
      "      <td>2</td>\n",
      "      <td>1</td>\n",
      "    </tr>\n",
      "    <tr>\n",
      "      <th>4</th>\n",
      "      <td>Distance from Sun:</td>\n",
      "      <td>227,943,824 km</td>\n",
      "      <td>149,598,262 km</td>\n",
      "    </tr>\n",
      "    <tr>\n",
      "      <th>5</th>\n",
      "      <td>Length of Year:</td>\n",
      "      <td>687 Earth days</td>\n",
      "      <td>365.24 days</td>\n",
      "    </tr>\n",
      "    <tr>\n",
      "      <th>6</th>\n",
      "      <td>Temperature:</td>\n",
      "      <td>-87 to -5 °C</td>\n",
      "      <td>-88 to 58°C</td>\n",
      "    </tr>\n",
      "  </tbody>\n",
      "</table>\n"
     ]
    }
   ],
   "source": [
    "url = 'https://galaxyfacts-mars.com/'\n",
    "\n",
    "tables = pd.read_html(url)\n",
    "# tables\n",
    "# print(type(tables)) #BZ saw it returns list class\n",
    "print(\"tables\")\n",
    "print(tables)\n",
    "print\n",
    "\n",
    "# Get Dataframe of first table\n",
    "df = tables[0]\n",
    "print(df.head())\n",
    "\n",
    "# Convert df to html\n",
    "html_table = df.to_html()\n",
    "print(f'html_table: {html_table}')"
   ]
  },
  {
   "cell_type": "markdown",
   "metadata": {},
   "source": [
    "Step 1 - Scraping:  Mars Hemispheres"
   ]
  },
  {
   "cell_type": "code",
   "execution_count": 9,
   "metadata": {},
   "outputs": [
    {
     "name": "stdout",
     "output_type": "stream",
     "text": [
      "\n",
      "hemisphere_image_urls: [{'Cerberus Hemisphere Enhanced': 'https://marshemispheres.com/images/cerberus_enhanced.tif', 'Schiaparelli Hemisphere Enhanced': 'https://marshemispheres.com/images/schiaparelli_enhanced.tif', 'Syrtis Major Hemisphere Enhanced': 'https://marshemispheres.com/images/syrtis_major_enhanced.tif', 'Valles Marineris Hemisphere Enhanced': 'https://marshemispheres.com/images/valles_marineris_enhanced.tif'}]\n",
      "\n"
     ]
    }
   ],
   "source": [
    "browser = Browser(\"chrome\", **executable_path, headless=False)\n",
    "url = 'https://marshemispheres.com/'\n",
    "\n",
    "# Retrieve page with the visit module\n",
    "browser.visit(url)\n",
    "\n",
    "html = browser.html\n",
    "# print(\"html\")\n",
    "# print(html)\n",
    "\n",
    "# Create BeautifulSoup object; parse with 'html.parser'\n",
    "soup = BeautifulSoup(html, 'html.parser')\n",
    "# print(soup.prettify())\n",
    "\n",
    "results = soup.find_all('div', class_='item')\n",
    "\n",
    "i = 0\n",
    "titles = {}\n",
    "img_urls = {}\n",
    "Enhanced_dict= {}\n",
    "mydict ={}\n",
    "hemisphere_image_urls = []\n",
    "\n",
    "# Next look for <h3>\n",
    "for result in results:\n",
    "    # Error handling\n",
    "    try:\n",
    "        # Identify and return title of listing\n",
    "        title = results[i].find('h3').text\n",
    "#         print(f'title within try loop: {title}')\n",
    "        titles[i]=title\n",
    "#         print(f'titles (plural): {titles}')\n",
    "        \n",
    "        # Run only if title is available\n",
    "        if (title != ''):\n",
    "            # Print results\n",
    "#             print('-------------')\n",
    "#             print(f\"title in title != '': {title}\")\n",
    "            \n",
    "\n",
    "            # Click on proper enhanced image button\n",
    "            browser.links.find_by_partial_text(title).click()\n",
    "#             print(\"Should sleep for 0.5\")\n",
    "            time.sleep(0.5)\n",
    "\n",
    "            html = browser.html\n",
    "            # print(\"html\")\n",
    "            # print(html)\n",
    "\n",
    "            # Create BeautifulSoup object; parse with 'html.parser'; find description iterables\n",
    "            enhanced_soup = BeautifulSoup(html, 'html.parser')\n",
    "            enhanced_results = enhanced_soup.find_all('div', class_='description')\n",
    "\n",
    "            # Loop through returned results\n",
    "            for enhanced_result in enhanced_results:\n",
    "                # Error handling\n",
    "                try:\n",
    "                    link = enhanced_result.a['href']\n",
    "#                     print(link)\n",
    "                    img_url=url + link\n",
    "#                     print(img_url)\n",
    "                except Exception as e:\n",
    "                    print(e)\n",
    "            \n",
    "#             print(f'title: {title}')\n",
    "#             print(f'img_url: {img_url}')\n",
    "\n",
    "    \n",
    "            #Assigning value to a specific key. This key will be added if its not available already. \n",
    "            Enhanced_dict[title] = img_url\n",
    "            # print(f'Enhanced_dict is now: {Enhanced_dict}')\n",
    "            \n",
    "            # Click on back button to return to home page\n",
    "            browser.links.find_by_partial_text('Back').click()\n",
    "#             print(\"Should sleep for 0.5\")\n",
    "            time.sleep(0.5)\n",
    "            \n",
    "    except Exception as e:\n",
    "        print(f'error: {e}')\n",
    "    i+=1\n",
    "\n",
    "hemisphere_image_urls = [Enhanced_dict]\n",
    "print()\n",
    "print(f'hemisphere_image_urls: {hemisphere_image_urls}')\n",
    "print()\n",
    "# print(f'titles: {titles}')\n",
    "# print(f'img_urls (plural): {img_urls}')\n",
    "# print(\"Done\")"
   ]
  },
  {
   "cell_type": "code",
   "execution_count": 10,
   "metadata": {},
   "outputs": [],
   "source": [
    "browser.quit()    "
   ]
  },
  {
   "cell_type": "markdown",
   "metadata": {},
   "source": [
    "Step 2 - MongoDB and Flask Application"
   ]
  },
  {
   "cell_type": "code",
   "execution_count": null,
   "metadata": {},
   "outputs": [],
   "source": []
  },
  {
   "cell_type": "code",
   "execution_count": null,
   "metadata": {},
   "outputs": [],
   "source": []
  },
  {
   "cell_type": "code",
   "execution_count": null,
   "metadata": {},
   "outputs": [],
   "source": []
  },
  {
   "cell_type": "code",
   "execution_count": null,
   "metadata": {},
   "outputs": [],
   "source": []
  },
  {
   "cell_type": "code",
   "execution_count": null,
   "metadata": {},
   "outputs": [],
   "source": []
  },
  {
   "cell_type": "code",
   "execution_count": null,
   "metadata": {},
   "outputs": [],
   "source": []
  },
  {
   "cell_type": "code",
   "execution_count": null,
   "metadata": {},
   "outputs": [],
   "source": []
  }
 ],
 "metadata": {
  "kernelspec": {
   "display_name": "Python 3 (ipykernel)",
   "language": "python",
   "name": "python3"
  },
  "language_info": {
   "codemirror_mode": {
    "name": "ipython",
    "version": 3
   },
   "file_extension": ".py",
   "mimetype": "text/x-python",
   "name": "python",
   "nbconvert_exporter": "python",
   "pygments_lexer": "ipython3",
   "version": "3.9.7"
  },
  "varInspector": {
   "cols": {
    "lenName": 16,
    "lenType": 16,
    "lenVar": 40
   },
   "kernels_config": {
    "python": {
     "delete_cmd_postfix": "",
     "delete_cmd_prefix": "del ",
     "library": "var_list.py",
     "varRefreshCmd": "print(var_dic_list())"
    },
    "r": {
     "delete_cmd_postfix": ") ",
     "delete_cmd_prefix": "rm(",
     "library": "var_list.r",
     "varRefreshCmd": "cat(var_dic_list()) "
    }
   },
   "types_to_exclude": [
    "module",
    "function",
    "builtin_function_or_method",
    "instance",
    "_Feature"
   ],
   "window_display": false
  }
 },
 "nbformat": 4,
 "nbformat_minor": 2
}

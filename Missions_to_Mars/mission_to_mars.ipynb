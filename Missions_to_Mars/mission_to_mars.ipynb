{
 "cells": [
  {
   "cell_type": "code",
   "execution_count": 1,
   "metadata": {},
   "outputs": [],
   "source": [
    "# Dependencies\n",
    "from bs4 import BeautifulSoup\n",
    "import requests\n",
    "import pymongo\n",
    "import os\n",
    "from splinter import Browser\n",
    "import pandas as pd\n",
    "import time\n",
    "from webdriver_manager.chrome import ChromeDriverManager\n",
    "# executable_path = {'executable_path': ChromeDriverManager().install()}\n",
    "# browser = Browser(\"chrome\", **executable_path, headless=False)"
   ]
  },
  {
   "cell_type": "code",
   "execution_count": 2,
   "metadata": {},
   "outputs": [],
   "source": [
    "# Initialize PyMongo to work with MongoDBs\n",
    "conn = 'mongodb://localhost:27017'\n",
    "client = pymongo.MongoClient(conn)"
   ]
  },
  {
   "cell_type": "code",
   "execution_count": 3,
   "metadata": {},
   "outputs": [
    {
     "name": "stdout",
     "output_type": "stream",
     "text": [
      "collection; Collection(Database(MongoClient(host=['localhost:27017'], document_class=dict, tz_aware=False, connect=True), 'mars_news_db'), 'articles')\n"
     ]
    }
   ],
   "source": [
    "# Define database and collection  from Eli's Stu_Reddit_Scraper for 12.2.4 that he slacked to us at 7:51 on 3/16\n",
    "db = client.mars_news_db\n",
    "collection = db.articles\n",
    "print(f'collection; {collection}')\n"
   ]
  },
  {
   "cell_type": "markdown",
   "metadata": {},
   "source": [
    "Step 1 - Scraping:  NASA Mars News"
   ]
  },
  {
   "cell_type": "code",
   "execution_count": 4,
   "metadata": {},
   "outputs": [
    {
     "name": "stderr",
     "output_type": "stream",
     "text": [
      "\n",
      "\n",
      "====== WebDriver manager ======\n",
      "Current google-chrome version is 100.0.4896\n",
      "Get LATEST chromedriver version for 100.0.4896 google-chrome\n",
      "Driver [C:\\Users\\BZ Northwestern BC\\.wdm\\drivers\\chromedriver\\win32\\100.0.4896.60\\chromedriver.exe] found in cache\n"
     ]
    },
    {
     "name": "stdout",
     "output_type": "stream",
     "text": [
      "news_title: A Year of Surprising Science From NASA's InSight Mars Mission\n",
      "news_p: A batch of new papers summarizes the lander's findings above and below the surface of the Red Planet.\n"
     ]
    }
   ],
   "source": [
    "# Set-up path and browser\n",
    "executable_path = {'executable_path': ChromeDriverManager().install()}\n",
    "browser = Browser(\"chrome\", **executable_path, headless=False)\n",
    "# Scrape Mars News\n",
    "# Visit the mars nasa news site\n",
    "url = 'https://redplanetscience.com/'\n",
    "browser.visit(url)\n",
    "\n",
    "# Optional delay for loading the page\n",
    "browser.is_element_present_by_css('div.list_text', wait_time=1)\n",
    "\n",
    "# Convert the browser html to a soup object and then quit the browser\n",
    "html = browser.html\n",
    "news_soup = BeautifulSoup(html, 'html.parser')\n",
    "\n",
    "# Add try/except for error handling\n",
    "try:\n",
    "    slide_elem = news_soup.select_one('div.list_text')\n",
    "    # Use the parent element to find the first 'a' tag and save it as 'news_title'\n",
    "    news_title = slide_elem.find(\"div\", class_=\"content_title\").get_text()\n",
    "    # Use the parent element to find the paragraph text\n",
    "    news_p = slide_elem.find(\"div\", class_=\"article_teaser_body\").get_text()\n",
    "\n",
    "except Exception as e:\n",
    "    print()\n",
    "    print(f'error: {e}')\n",
    "    print()\n",
    "    browser.quit()\n",
    "\n",
    "browser.quit()\n",
    "print(f'news_title: {news_title}')\n",
    "print(f'news_p: {news_p}')\n"
   ]
  },
  {
   "cell_type": "markdown",
   "metadata": {},
   "source": [
    "Step 1 - Scraping:  JPL Mars Space Images - Featured Image"
   ]
  },
  {
   "cell_type": "code",
   "execution_count": 5,
   "metadata": {},
   "outputs": [
    {
     "name": "stderr",
     "output_type": "stream",
     "text": [
      "\n",
      "\n",
      "====== WebDriver manager ======\n",
      "Current google-chrome version is 100.0.4896\n",
      "Get LATEST chromedriver version for 100.0.4896 google-chrome\n",
      "Driver [C:\\Users\\BZ Northwestern BC\\.wdm\\drivers\\chromedriver\\win32\\100.0.4896.60\\chromedriver.exe] found in cache\n"
     ]
    },
    {
     "name": "stdout",
     "output_type": "stream",
     "text": [
      "featured_image_url: https://spaceimages-mars.com/image/featured/mars3.jpg\n"
     ]
    }
   ],
   "source": [
    "# Step 1 - Scraping:  JPL Mars Space Images - Featured Mars Image\n",
    "\n",
    "# Set-up path and browser\n",
    "executable_path = {'executable_path': ChromeDriverManager().install()}\n",
    "browser = Browser(\"chrome\", **executable_path, headless=False)\n",
    "url = 'https://spaceimages-mars.com/'\n",
    "\n",
    "# Retrieve page with the visit module\n",
    "browser.visit(url)\n",
    "html = browser.html\n",
    "time.sleep(1)\n",
    "\n",
    "try: \n",
    "    # Click on \"FULL IMAGE\" button\n",
    "    browser.links.find_by_partial_text('FULL IMAGE').click()\n",
    "    time.sleep(1)\n",
    "\n",
    "    # Create BeautifulSoup object; parse with 'html.parser'\n",
    "    soup = BeautifulSoup(html, 'html.parser')\n",
    "    # print(soup.prettify())\n",
    "\n",
    "    # Find full size image\n",
    "    fade_in_image = soup.find_all(\"img\", \"headerimage fade-in\")\n",
    "    featured_image_url=url + fade_in_image[0]['src']\n",
    "    browser.quit()\n",
    "\n",
    "\n",
    "except Exception as e:\n",
    "    print(f'error: {e}')\n",
    "    browser.quit()\n",
    "print(f'featured_image_url: {featured_image_url}')\n"
   ]
  },
  {
   "cell_type": "markdown",
   "metadata": {},
   "source": [
    "Step 1 - Scraping:  JPL Mars Space Images - Mars Facts"
   ]
  },
  {
   "cell_type": "code",
   "execution_count": 6,
   "metadata": {},
   "outputs": [
    {
     "name": "stderr",
     "output_type": "stream",
     "text": [
      "\n",
      "\n",
      "====== WebDriver manager ======\n",
      "Current google-chrome version is 100.0.4896\n",
      "Get LATEST chromedriver version for 100.0.4896 google-chrome\n",
      "Driver [C:\\Users\\BZ Northwestern BC\\.wdm\\drivers\\chromedriver\\win32\\100.0.4896.60\\chromedriver.exe] found in cache\n"
     ]
    },
    {
     "name": "stdout",
     "output_type": "stream",
     "text": [
      "html_table: <table border=\"1\" class=\"dataframe\">\n",
      "  <thead>\n",
      "    <tr style=\"text-align: right;\">\n",
      "      <th></th>\n",
      "      <th>Mars</th>\n",
      "      <th>Earth</th>\n",
      "    </tr>\n",
      "    <tr>\n",
      "      <th>Description</th>\n",
      "      <th></th>\n",
      "      <th></th>\n",
      "    </tr>\n",
      "  </thead>\n",
      "  <tbody>\n",
      "    <tr>\n",
      "      <th>Mars - Earth Comparison</th>\n",
      "      <td>Mars</td>\n",
      "      <td>Earth</td>\n",
      "    </tr>\n",
      "    <tr>\n",
      "      <th>Diameter:</th>\n",
      "      <td>6,779 km</td>\n",
      "      <td>12,742 km</td>\n",
      "    </tr>\n",
      "    <tr>\n",
      "      <th>Mass:</th>\n",
      "      <td>6.39 × 10^23 kg</td>\n",
      "      <td>5.97 × 10^24 kg</td>\n",
      "    </tr>\n",
      "    <tr>\n",
      "      <th>Moons:</th>\n",
      "      <td>2</td>\n",
      "      <td>1</td>\n",
      "    </tr>\n",
      "    <tr>\n",
      "      <th>Distance from Sun:</th>\n",
      "      <td>227,943,824 km</td>\n",
      "      <td>149,598,262 km</td>\n",
      "    </tr>\n",
      "    <tr>\n",
      "      <th>Length of Year:</th>\n",
      "      <td>687 Earth days</td>\n",
      "      <td>365.24 days</td>\n",
      "    </tr>\n",
      "    <tr>\n",
      "      <th>Temperature:</th>\n",
      "      <td>-87 to -5 °C</td>\n",
      "      <td>-88 to 58°C</td>\n",
      "    </tr>\n",
      "  </tbody>\n",
      "</table>\n"
     ]
    }
   ],
   "source": [
    "    # Step 1 - Scraping:  JPL Mars Space Images - Mars Facts\n",
    "\n",
    "    # Set-up path and browser\n",
    "    executable_path = {'executable_path': ChromeDriverManager().install()}\n",
    "    browser = Browser(\"chrome\", **executable_path, headless=False)\n",
    "    url = 'https://galaxyfacts-mars.com/'\n",
    "\n",
    "    try:\n",
    "        tables = pd.read_html(url)\n",
    "        time.sleep(1)\n",
    "        # Get Dataframe of first table\n",
    "        # print(f'($$$$$$$$$$$$$$$$$$$$$$$$$$$$$Tables in mars_facts is: {tables}')\n",
    "        mars_facts_df = tables[0]\n",
    "        mars_facts_df.rename(columns={0: \"Description\", 1: \"Mars\", 2: \"Earth\"}, inplace=True)\n",
    "        mars_facts_df=mars_facts_df.set_index(\"Description\")\n",
    "        html_table = mars_facts_df.to_html()\n",
    "        browser.quit()\n",
    "\n",
    "    except Exception as e:\n",
    "        print()\n",
    "        print(\"?????????????????????????? Exception in mars_facts ????????????????????????????????\")\n",
    "        print(f'error: {e}')\n",
    "        print()\n",
    "        browser.quit()\n",
    "print(f'html_table: {html_table}')"
   ]
  },
  {
   "cell_type": "markdown",
   "metadata": {},
   "source": [
    "Step 1 - Scraping:  Mars Hemispheres"
   ]
  },
  {
   "cell_type": "code",
   "execution_count": 7,
   "metadata": {},
   "outputs": [
    {
     "name": "stderr",
     "output_type": "stream",
     "text": [
      "\n",
      "\n",
      "====== WebDriver manager ======\n"
     ]
    },
    {
     "name": "stdout",
     "output_type": "stream",
     "text": [
      "collection; Collection(Database(MongoClient(host=['localhost:27017'], document_class=dict, tz_aware=False, connect=True), 'mars'), 'articles')\n"
     ]
    },
    {
     "name": "stderr",
     "output_type": "stream",
     "text": [
      "Current google-chrome version is 100.0.4896\n",
      "Get LATEST chromedriver version for 100.0.4896 google-chrome\n",
      "Driver [C:\\Users\\BZ Northwestern BC\\.wdm\\drivers\\chromedriver\\win32\\100.0.4896.60\\chromedriver.exe] found in cache\n"
     ]
    },
    {
     "name": "stdout",
     "output_type": "stream",
     "text": [
      "hemisphere_image_urls: [{'title': 'Cerberus Hemisphere Enhanced', 'img_url': 'https://marshemispheres.com/images/full.jpg'}, {'title': 'Schiaparelli Hemisphere Enhanced', 'img_url': 'https://marshemispheres.com/images/schiaparelli_enhanced-full.jpg'}, {'title': 'Syrtis Major Hemisphere Enhanced', 'img_url': 'https://marshemispheres.com/images/syrtis_major_enhanced-full.jpg'}, {'title': 'Valles Marineris Hemisphere Enhanced', 'img_url': 'https://marshemispheres.com/images/valles_marineris_enhanced-full.jpg'}]\n"
     ]
    }
   ],
   "source": [
    "# Converted my Jupyter Notebook mission_to_mars.ipynb into to scrape_mars.py\n",
    "# then bloked off key funtions \n",
    "# Dependencies\n",
    "# Started with scrape_costa.py basics and added more over time\n",
    "\n",
    "from splinter import Browser\n",
    "from bs4 import BeautifulSoup\n",
    "import time\n",
    "from webdriver_manager.chrome import ChromeDriverManager\n",
    "\n",
    "import requests\n",
    "import pymongo\n",
    "import os\n",
    "import pandas as pd\n",
    "\n",
    "\n",
    "# Initialize PyMongo to work with MongoDBs\n",
    "conn = 'mongodb://localhost:27017'\n",
    "client = pymongo.MongoClient(conn)\n",
    "\n",
    "# Define database and collection  from Eli's Stu_Reddit_Scraper for 12.2.4 that he slacked to us at 7:51 on 3/16\n",
    "db = client.mars\n",
    "collection = db.articles\n",
    "print(f'collection; {collection}')\n",
    "\n",
    "\n",
    "# Step 1 - Scraping:  Mars Hemispheres\n",
    "\n",
    "# Set-up path and browser\n",
    "executable_path = {'executable_path': ChromeDriverManager().install()}\n",
    "browser = Browser(\"chrome\", **executable_path, headless=False)\n",
    "url = 'https://marshemispheres.com/'\n",
    "\n",
    "# Retrieve page with the visit module\n",
    "browser.visit(url)\n",
    "html = browser.html\n",
    "\n",
    "# Create BeautifulSoup object; parse with 'html.parser'\n",
    "soup = BeautifulSoup(html, 'html.parser')\n",
    "# print(soup.prettify())\n",
    "results = soup.find_all('div', class_='item')\n",
    "\n",
    "i = 0\n",
    "titles = {}\n",
    "img_urls = {}\n",
    "Enhanced_dict= {}\n",
    "mydict ={}\n",
    "hemisphere_image_urls = []\n",
    "\n",
    "\n",
    "# Next look for <h3> (title) and title link to click while on intial page\n",
    "for result in results:\n",
    "    # Error handling\n",
    "    try:\n",
    "        # Identify and return title of listing\n",
    "        title = results[i].find('h3').text\n",
    "        titles[i]=title\n",
    "\n",
    "        # Run only if title is available\n",
    "        if (title != ''):\n",
    "\n",
    "            # Click on proper enhanced image button\n",
    "            browser.links.find_by_partial_text(title).click()\n",
    "            time.sleep(1)\n",
    "\n",
    "            # Next look for 'downloads to find the actual link\n",
    "            html = browser.html\n",
    "            # print(html)\n",
    "\n",
    "            # Create BeautifulSoup object; parse with 'html.parser'; find description iterables\n",
    "            enhanced_soup = BeautifulSoup(html, 'html.parser')\n",
    "            enhanced_results = enhanced_soup.find_all('div', class_='downloads')\n",
    "\n",
    "            # Loop through returned results\n",
    "            for enhanced_result in enhanced_results:\n",
    "                # Error handling\n",
    "                try:\n",
    "                    link = enhanced_result.a['href']\n",
    "                    img_url=url + link\n",
    "                except Exception as e:\n",
    "                    print(e)\n",
    "            hemisphere_image_urls.append(\n",
    "                {\n",
    "                    'title': title,\n",
    "                    'img_url': img_url,\n",
    "                }\n",
    "            )\n",
    "\n",
    "\n",
    "            # Click on back button to return to home page\n",
    "            browser.links.find_by_partial_text('Back').click()\n",
    "            time.sleep(1)\n",
    "\n",
    "    except Exception as e:\n",
    "        browser.quit()\n",
    "        print(f'error: {e}')\n",
    "\n",
    "    i+=1\n",
    "\n",
    "browser.quit()\n",
    "print (f'hemisphere_image_urls: {hemisphere_image_urls}')\n"
   ]
  },
  {
   "cell_type": "code",
   "execution_count": null,
   "metadata": {},
   "outputs": [],
   "source": []
  },
  {
   "cell_type": "code",
   "execution_count": null,
   "metadata": {},
   "outputs": [],
   "source": []
  },
  {
   "cell_type": "code",
   "execution_count": null,
   "metadata": {},
   "outputs": [],
   "source": []
  },
  {
   "cell_type": "code",
   "execution_count": null,
   "metadata": {},
   "outputs": [],
   "source": []
  }
 ],
 "metadata": {
  "kernelspec": {
   "display_name": "Python 3 (ipykernel)",
   "language": "python",
   "name": "python3"
  },
  "language_info": {
   "codemirror_mode": {
    "name": "ipython",
    "version": 3
   },
   "file_extension": ".py",
   "mimetype": "text/x-python",
   "name": "python",
   "nbconvert_exporter": "python",
   "pygments_lexer": "ipython3",
   "version": "3.9.7"
  },
  "varInspector": {
   "cols": {
    "lenName": 16,
    "lenType": 16,
    "lenVar": 40
   },
   "kernels_config": {
    "python": {
     "delete_cmd_postfix": "",
     "delete_cmd_prefix": "del ",
     "library": "var_list.py",
     "varRefreshCmd": "print(var_dic_list())"
    },
    "r": {
     "delete_cmd_postfix": ") ",
     "delete_cmd_prefix": "rm(",
     "library": "var_list.r",
     "varRefreshCmd": "cat(var_dic_list()) "
    }
   },
   "types_to_exclude": [
    "module",
    "function",
    "builtin_function_or_method",
    "instance",
    "_Feature"
   ],
   "window_display": false
  }
 },
 "nbformat": 4,
 "nbformat_minor": 2
}
